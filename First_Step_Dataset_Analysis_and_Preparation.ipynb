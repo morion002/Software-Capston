{
 "cells": [
  {
   "cell_type": "markdown",
   "metadata": {
    "id": "vhiUZ8851mhW"
   },
   "source": [
    "# MedCAT tutorial - Dataset Analysis and Preparation\n",
    "\n",
    "Welcome to the MedCAT tutorials!\n",
    "\n",
    "First before be begin extracting information from with patient records.\n",
    "As with the begining of every datascience project. Let's explore the data that we are dealing with.\n",
    "\n"
   ]
  },
  {
   "cell_type": "code",
   "execution_count": 1,
   "metadata": {
    "id": "7SoD_jahU16R"
   },
   "outputs": [],
   "source": [
    "import numpy as np\n",
    "import pandas as pd\n",
    "import seaborn as sns\n",
    "import matplotlib.pyplot as plt"
   ]
  },
  {
   "cell_type": "code",
   "execution_count": 2,
   "metadata": {
    "id": "XhWuQ85eadQL"
   },
   "outputs": [],
   "source": [
    "%matplotlib inline"
   ]
  },
  {
   "cell_type": "markdown",
   "metadata": {
    "id": "WodlSMPEadQO"
   },
   "source": [
    "### Datasets\n",
    "\n",
    "If you are using MIMIC-III you will have the create the create the `patients.csv` and `noteevents.csv` and place them into the folder specified below. How to prepare the CSV files is explained in the blog post [MedCAT | Dataset Analysis and Preparation](https://towardsdatascience.com/medcat-dataset-analysis-and-preparation-be8bc910bd6d)."
   ]
  },
  {
   "cell_type": "code",
   "execution_count": 3,
   "metadata": {
    "id": "QOf7zPp-adQP"
   },
   "outputs": [],
   "source": [
    "DATA_DIR = \"./data/\""
   ]
  },
  {
   "cell_type": "markdown",
   "metadata": {
    "id": "DfHK0VuybBEf"
   },
   "source": [
    "### Download the data (only if using the pre-made datasets and not MIMIC-III)"
   ]
  },
  {
   "cell_type": "code",
   "execution_count": 4,
   "metadata": {
    "id": "kMwoQNQYUs3_"
   },
   "outputs": [
    {
     "name": "stderr",
     "output_type": "stream",
     "text": [
      "'wget'은(는) 내부 또는 외부 명령, 실행할 수 있는 프로그램, 또는\n",
      "배치 파일이 아닙니다.\n",
      "'wget'은(는) 내부 또는 외부 명령, 실행할 수 있는 프로그램, 또는\n",
      "배치 파일이 아닙니다.\n"
     ]
    }
   ],
   "source": [
    "# Load files if in google colab, otherwise skip this step\n",
    "! wget https://raw.githubusercontent.com/CogStack/MedCATtutorials/main/notebooks/introductory/data/noteevents.csv -P ./data/\n",
    "! wget https://raw.githubusercontent.com/CogStack/MedCATtutorials/main/notebooks/introductory/data/patients.csv -P ./data/"
   ]
  },
  {
   "cell_type": "markdown",
   "metadata": {
    "id": "ZjqO9HkEcyf8"
   },
   "source": [
    "### Set plot sizes and style"
   ]
  },
  {
   "cell_type": "code",
   "execution_count": 5,
   "metadata": {
    "id": "1_-QgGn4adQS"
   },
   "outputs": [],
   "source": [
    "# Set size and color for plots\n",
    "sns.reset_defaults()\n",
    "sns.set(\n",
    "    rc={'figure.figsize':(4,5)}, \n",
    "    style=\"white\"\n",
    ")"
   ]
  },
  {
   "cell_type": "markdown",
   "metadata": {
    "id": "-vlL4GHuadQV"
   },
   "source": [
    "## Statistics on patients"
   ]
  },
  {
   "cell_type": "code",
   "execution_count": 6,
   "metadata": {
    "id": "-qWCJns4adQV"
   },
   "outputs": [
    {
     "data": {
      "text/html": [
       "<div>\n",
       "<style scoped>\n",
       "    .dataframe tbody tr th:only-of-type {\n",
       "        vertical-align: middle;\n",
       "    }\n",
       "\n",
       "    .dataframe tbody tr th {\n",
       "        vertical-align: top;\n",
       "    }\n",
       "\n",
       "    .dataframe thead th {\n",
       "        text-align: right;\n",
       "    }\n",
       "</style>\n",
       "<table border=\"1\" class=\"dataframe\">\n",
       "  <thead>\n",
       "    <tr style=\"text-align: right;\">\n",
       "      <th></th>\n",
       "      <th>ROW_ID</th>\n",
       "      <th>SUBJECT_ID</th>\n",
       "      <th>GENDER</th>\n",
       "      <th>DOB</th>\n",
       "      <th>DOD</th>\n",
       "      <th>DOD_HOSP</th>\n",
       "      <th>DOD_SSN</th>\n",
       "      <th>EXPIRE_FLAG</th>\n",
       "    </tr>\n",
       "  </thead>\n",
       "  <tbody>\n",
       "    <tr>\n",
       "      <th>0</th>\n",
       "      <td>234</td>\n",
       "      <td>249</td>\n",
       "      <td>F</td>\n",
       "      <td>2075-03-13 00:00:00</td>\n",
       "      <td>NaN</td>\n",
       "      <td>NaN</td>\n",
       "      <td>NaN</td>\n",
       "      <td>0</td>\n",
       "    </tr>\n",
       "    <tr>\n",
       "      <th>1</th>\n",
       "      <td>235</td>\n",
       "      <td>250</td>\n",
       "      <td>F</td>\n",
       "      <td>2164-12-27 00:00:00</td>\n",
       "      <td>2188-11-22 00:00:00</td>\n",
       "      <td>2188-11-22 00:00:00</td>\n",
       "      <td>NaN</td>\n",
       "      <td>1</td>\n",
       "    </tr>\n",
       "    <tr>\n",
       "      <th>2</th>\n",
       "      <td>236</td>\n",
       "      <td>251</td>\n",
       "      <td>M</td>\n",
       "      <td>2090-03-15 00:00:00</td>\n",
       "      <td>NaN</td>\n",
       "      <td>NaN</td>\n",
       "      <td>NaN</td>\n",
       "      <td>0</td>\n",
       "    </tr>\n",
       "    <tr>\n",
       "      <th>3</th>\n",
       "      <td>237</td>\n",
       "      <td>252</td>\n",
       "      <td>M</td>\n",
       "      <td>2078-03-06 00:00:00</td>\n",
       "      <td>NaN</td>\n",
       "      <td>NaN</td>\n",
       "      <td>NaN</td>\n",
       "      <td>0</td>\n",
       "    </tr>\n",
       "    <tr>\n",
       "      <th>4</th>\n",
       "      <td>238</td>\n",
       "      <td>253</td>\n",
       "      <td>F</td>\n",
       "      <td>2089-11-26 00:00:00</td>\n",
       "      <td>NaN</td>\n",
       "      <td>NaN</td>\n",
       "      <td>NaN</td>\n",
       "      <td>0</td>\n",
       "    </tr>\n",
       "  </tbody>\n",
       "</table>\n",
       "</div>"
      ],
      "text/plain": [
       "   ROW_ID  SUBJECT_ID GENDER                  DOB                  DOD  \\\n",
       "0     234         249      F  2075-03-13 00:00:00                  NaN   \n",
       "1     235         250      F  2164-12-27 00:00:00  2188-11-22 00:00:00   \n",
       "2     236         251      M  2090-03-15 00:00:00                  NaN   \n",
       "3     237         252      M  2078-03-06 00:00:00                  NaN   \n",
       "4     238         253      F  2089-11-26 00:00:00                  NaN   \n",
       "\n",
       "              DOD_HOSP DOD_SSN  EXPIRE_FLAG  \n",
       "0                  NaN     NaN            0  \n",
       "1  2188-11-22 00:00:00     NaN            1  \n",
       "2                  NaN     NaN            0  \n",
       "3                  NaN     NaN            0  \n",
       "4                  NaN     NaN            0  "
      ]
     },
     "execution_count": 6,
     "metadata": {},
     "output_type": "execute_result"
    }
   ],
   "source": [
    "patients = pd.read_csv(\"PATIENTS.csv\")\n",
    "patients.head()"
   ]
  },
  {
   "cell_type": "code",
   "execution_count": 7,
   "metadata": {
    "id": "2G0t_YbgadQY"
   },
   "outputs": [
    {
     "name": "stderr",
     "output_type": "stream",
     "text": [
      "C:\\Users\\morio\\anaconda3\\lib\\site-packages\\seaborn\\_decorators.py:36: FutureWarning: Pass the following variable as a keyword arg: x. From version 0.12, the only valid positional argument will be `data`, and passing other arguments without an explicit keyword will result in an error or misinterpretation.\n",
      "  warnings.warn(\n"
     ]
    },
    {
     "data": {
      "image/png": "[encoded data removed]",
      "text/plain": [
       "<Figure size 400x500 with 1 Axes>"
      ]
     },
     "metadata": {},
     "output_type": "display_data"
    }
   ],
   "source": [
    "sns.countplot(patients['GENDER'])\n",
    "plt.show()"
   ]
  },
  {
   "cell_type": "code",
   "execution_count": 8,
   "metadata": {
    "id": "zBvtOGP_adQa"
   },
   "outputs": [
    {
     "name": "stdout",
     "output_type": "stream",
     "text": [
      "Total number of patients: 46520\n",
      "Male: 26121\n",
      "Female: 20399\n"
     ]
    }
   ],
   "source": [
    "print(f\"Total number of patients: {len(patients)}\")\n",
    "print(f\"Male: {len(patients[patients['GENDER'] == 'M'])}\")\n",
    "print(f\"Female: {len(patients[patients['GENDER'] == 'F'])}\")"
   ]
  },
  {
   "cell_type": "markdown",
   "metadata": {
    "id": "P3zXGXwvadQd"
   },
   "source": [
    "## Statistics on note events\n",
    "\n",
    "Note: This dataset is large and requires a bit more RAM to fully load into memory."
   ]
  },
  {
   "cell_type": "code",
   "execution_count": 9,
   "metadata": {
    "id": "RPGLkgpYadQe"
   },
   "outputs": [],
   "source": [
    "# Set size and color for plots\n",
    "sns.reset_defaults()\n",
    "sns.set(\n",
    "    rc={'figure.figsize':(10,6)}, \n",
    "    style=\"white\"\n",
    ")"
   ]
  },
  {
   "cell_type": "code",
   "execution_count": 10,
   "metadata": {
    "id": "Kq8GA3dgadQg"
   },
   "outputs": [
    {
     "name": "stderr",
     "output_type": "stream",
     "text": [
      "C:\\Users\\morio\\anaconda3\\lib\\site-packages\\IPython\\core\\interactiveshell.py:3165: DtypeWarning: Columns (4,5) have mixed types.Specify dtype option on import or set low_memory=False.\n",
      "  has_raised = await self.run_ast_nodes(code_ast.body, cell_name,\n"
     ]
    },
    {
     "data": {
      "text/html": [
       "<div>\n",
       "<style scoped>\n",
       "    .dataframe tbody tr th:only-of-type {\n",
       "        vertical-align: middle;\n",
       "    }\n",
       "\n",
       "    .dataframe tbody tr th {\n",
       "        vertical-align: top;\n",
       "    }\n",
       "\n",
       "    .dataframe thead th {\n",
       "        text-align: right;\n",
       "    }\n",
       "</style>\n",
       "<table border=\"1\" class=\"dataframe\">\n",
       "  <thead>\n",
       "    <tr style=\"text-align: right;\">\n",
       "      <th></th>\n",
       "      <th>ROW_ID</th>\n",
       "      <th>SUBJECT_ID</th>\n",
       "      <th>HADM_ID</th>\n",
       "      <th>CHARTDATE</th>\n",
       "      <th>CHARTTIME</th>\n",
       "      <th>STORETIME</th>\n",
       "      <th>CATEGORY</th>\n",
       "      <th>DESCRIPTION</th>\n",
       "      <th>CGID</th>\n",
       "      <th>ISERROR</th>\n",
       "      <th>TEXT</th>\n",
       "    </tr>\n",
       "  </thead>\n",
       "  <tbody>\n",
       "    <tr>\n",
       "      <th>0</th>\n",
       "      <td>174</td>\n",
       "      <td>22532</td>\n",
       "      <td>167853.0</td>\n",
       "      <td>2151-08-04</td>\n",
       "      <td>NaN</td>\n",
       "      <td>NaN</td>\n",
       "      <td>Discharge summary</td>\n",
       "      <td>Report</td>\n",
       "      <td>NaN</td>\n",
       "      <td>NaN</td>\n",
       "      <td>Admission Date:  [**2151-7-16**]       Dischar...</td>\n",
       "    </tr>\n",
       "    <tr>\n",
       "      <th>1</th>\n",
       "      <td>175</td>\n",
       "      <td>13702</td>\n",
       "      <td>107527.0</td>\n",
       "      <td>2118-06-14</td>\n",
       "      <td>NaN</td>\n",
       "      <td>NaN</td>\n",
       "      <td>Discharge summary</td>\n",
       "      <td>Report</td>\n",
       "      <td>NaN</td>\n",
       "      <td>NaN</td>\n",
       "      <td>Admission Date:  [**2118-6-2**]       Discharg...</td>\n",
       "    </tr>\n",
       "    <tr>\n",
       "      <th>2</th>\n",
       "      <td>176</td>\n",
       "      <td>13702</td>\n",
       "      <td>167118.0</td>\n",
       "      <td>2119-05-25</td>\n",
       "      <td>NaN</td>\n",
       "      <td>NaN</td>\n",
       "      <td>Discharge summary</td>\n",
       "      <td>Report</td>\n",
       "      <td>NaN</td>\n",
       "      <td>NaN</td>\n",
       "      <td>Admission Date:  [**2119-5-4**]              D...</td>\n",
       "    </tr>\n",
       "    <tr>\n",
       "      <th>3</th>\n",
       "      <td>177</td>\n",
       "      <td>13702</td>\n",
       "      <td>196489.0</td>\n",
       "      <td>2124-08-18</td>\n",
       "      <td>NaN</td>\n",
       "      <td>NaN</td>\n",
       "      <td>Discharge summary</td>\n",
       "      <td>Report</td>\n",
       "      <td>NaN</td>\n",
       "      <td>NaN</td>\n",
       "      <td>Admission Date:  [**2124-7-21**]              ...</td>\n",
       "    </tr>\n",
       "    <tr>\n",
       "      <th>4</th>\n",
       "      <td>178</td>\n",
       "      <td>26880</td>\n",
       "      <td>135453.0</td>\n",
       "      <td>2162-03-25</td>\n",
       "      <td>NaN</td>\n",
       "      <td>NaN</td>\n",
       "      <td>Discharge summary</td>\n",
       "      <td>Report</td>\n",
       "      <td>NaN</td>\n",
       "      <td>NaN</td>\n",
       "      <td>Admission Date:  [**2162-3-3**]              D...</td>\n",
       "    </tr>\n",
       "  </tbody>\n",
       "</table>\n",
       "</div>"
      ],
      "text/plain": [
       "   ROW_ID  SUBJECT_ID   HADM_ID   CHARTDATE CHARTTIME STORETIME  \\\n",
       "0     174       22532  167853.0  2151-08-04       NaN       NaN   \n",
       "1     175       13702  107527.0  2118-06-14       NaN       NaN   \n",
       "2     176       13702  167118.0  2119-05-25       NaN       NaN   \n",
       "3     177       13702  196489.0  2124-08-18       NaN       NaN   \n",
       "4     178       26880  135453.0  2162-03-25       NaN       NaN   \n",
       "\n",
       "            CATEGORY DESCRIPTION  CGID  ISERROR  \\\n",
       "0  Discharge summary      Report   NaN      NaN   \n",
       "1  Discharge summary      Report   NaN      NaN   \n",
       "2  Discharge summary      Report   NaN      NaN   \n",
       "3  Discharge summary      Report   NaN      NaN   \n",
       "4  Discharge summary      Report   NaN      NaN   \n",
       "\n",
       "                                                TEXT  \n",
       "0  Admission Date:  [**2151-7-16**]       Dischar...  \n",
       "1  Admission Date:  [**2118-6-2**]       Discharg...  \n",
       "2  Admission Date:  [**2119-5-4**]              D...  \n",
       "3  Admission Date:  [**2124-7-21**]              ...  \n",
       "4  Admission Date:  [**2162-3-3**]              D...  "
      ]
     },
     "execution_count": 10,
     "metadata": {},
     "output_type": "execute_result"
    }
   ],
   "source": [
    "noteevents = pd.read_csv(\"NOTEEVENTS.csv\")\n",
    "noteevents.head()"
   ]
  },
  {
   "cell_type": "code",
   "execution_count": 13,
   "metadata": {
    "id": "mWO6GVLgut4H"
   },
   "outputs": [
    {
     "data": {
      "text/plain": [
       "0          Discharge summary\n",
       "1          Discharge summary\n",
       "2          Discharge summary\n",
       "3          Discharge summary\n",
       "4          Discharge summary\n",
       "                 ...        \n",
       "2083175        Nursing/other\n",
       "2083176        Nursing/other\n",
       "2083177        Nursing/other\n",
       "2083178        Nursing/other\n",
       "2083179        Nursing/other\n",
       "Name: CATEGORY, Length: 2083180, dtype: object"
      ]
     },
     "execution_count": 13,
     "metadata": {},
     "output_type": "execute_result"
    }
   ],
   "source": [
    "noteevents.CATEGORY"
   ]
  },
  {
   "cell_type": "code",
   "execution_count": 14,
   "metadata": {
    "id": "znwaer7uVr8n"
   },
   "outputs": [
    {
     "name": "stdout",
     "output_type": "stream",
     "text": [
      "Admission Date:  [**2151-7-16**]       Discharge Date:  [**2151-8-4**]\n",
      "\n",
      "\n",
      "Service:\n",
      "ADDENDUM:\n",
      "\n",
      "RADIOLOGIC STUDIES:  Radiologic studies also included a chest\n",
      "CT, which confirmed cavitary lesions in the left lung apex\n",
      "consistent with infectious process/tuberculosis.  This also\n",
      "moderate-sized left pleural effusion.\n",
      "\n",
      "HEAD CT:  Head CT showed no intracranial hemorrhage or mass\n",
      "effect, but old infarction consistent with past medical\n",
      "history.\n",
      "\n",
      "ABDOMINAL CT:  Abdominal CT showed lesions of\n",
      "T10 and sacrum most likely secondary to osteoporosis. These can\n",
      "be followed by repeat imaging as an outpatient.\n",
      "\n",
      "\n",
      "\n",
      "                            [**First Name8 (NamePattern2) **] [**First Name4 (NamePattern1) 1775**] [**Last Name (NamePattern1) **], M.D.  [**MD Number(1) 1776**]\n",
      "\n",
      "Dictated By:[**Hospital 1807**]\n",
      "MEDQUIST36\n",
      "\n",
      "D:  [**2151-8-5**]  12:11\n",
      "T:  [**2151-8-5**]  12:21\n",
      "JOB#:  [**Job Number 1808**]\n",
      "\n"
     ]
    }
   ],
   "source": [
    "# The column 'noteevents' contains the free text / unstructured text body of the document\n",
    "print(noteevents.TEXT.iloc[0])"
   ]
  },
  {
   "cell_type": "code",
   "execution_count": 15,
   "metadata": {
    "id": "xcp2oEFDadQi"
   },
   "outputs": [],
   "source": [
    "noteevents_original = noteevents.copy()"
   ]
  },
  {
   "cell_type": "code",
   "execution_count": 17,
   "metadata": {
    "id": "5iPIqOOiadQl"
   },
   "outputs": [
    {
     "name": "stderr",
     "output_type": "stream",
     "text": [
      "C:\\Users\\morio\\anaconda3\\lib\\site-packages\\seaborn\\distributions.py:2557: FutureWarning: `distplot` is a deprecated function and will be removed in a future version. Please adapt your code to use either `displot` (a figure-level function with similar flexibility) or `histplot` (an axes-level function for histograms).\n",
      "  warnings.warn(msg, FutureWarning)\n"
     ]
    },
    {
     "data": {
      "image/png": "[encoded data removed]",
      "text/plain": [
       "<Figure size 1000x600 with 1 Axes>"
      ]
     },
     "metadata": {},
     "output_type": "display_data"
    }
   ],
   "source": [
    "lns = noteevents.TEXT.str.len().tolist()\n",
    "sns.distplot(lns, kde=False, axlabel='Document length')\n",
    "plt.show()"
   ]
  },
  {
   "cell_type": "code",
   "execution_count": 18,
   "metadata": {
    "id": "XHqZWgqoadQq"
   },
   "outputs": [
    {
     "data": {
      "image/png": "[encoded data removed]",
      "text/plain": [
       "<Figure size 1000x600 with 1 Axes>"
      ]
     },
     "metadata": {},
     "output_type": "display_data"
    }
   ],
   "source": [
    "# Sort lengths\n",
    "lns = sorted(lns)\n",
    "\n",
    "# Take 5% as the removal size\n",
    "rm_size = int(len(lns) / 100) * 5\n",
    "\n",
    "# Now plot with removal of most/least frequent\n",
    "sns.distplot(lns[rm_size:-rm_size], kde=False, axlabel='Document length')\n",
    "plt.show()"
   ]
  },
  {
   "cell_type": "markdown",
   "metadata": {
    "id": "YVbE6NwUadQs"
   },
   "source": [
    "### Cleaning based on document length"
   ]
  },
  {
   "cell_type": "code",
   "execution_count": 19,
   "metadata": {
    "id": "KPMajqkmadQt"
   },
   "outputs": [
    {
     "data": {
      "text/html": [
       "<div>\n",
       "<style scoped>\n",
       "    .dataframe tbody tr th:only-of-type {\n",
       "        vertical-align: middle;\n",
       "    }\n",
       "\n",
       "    .dataframe tbody tr th {\n",
       "        vertical-align: top;\n",
       "    }\n",
       "\n",
       "    .dataframe thead th {\n",
       "        text-align: right;\n",
       "    }\n",
       "</style>\n",
       "<table border=\"1\" class=\"dataframe\">\n",
       "  <thead>\n",
       "    <tr style=\"text-align: right;\">\n",
       "      <th></th>\n",
       "      <th>ROW_ID</th>\n",
       "      <th>SUBJECT_ID</th>\n",
       "      <th>HADM_ID</th>\n",
       "      <th>CHARTDATE</th>\n",
       "      <th>CHARTTIME</th>\n",
       "      <th>STORETIME</th>\n",
       "      <th>CATEGORY</th>\n",
       "      <th>DESCRIPTION</th>\n",
       "      <th>CGID</th>\n",
       "      <th>ISERROR</th>\n",
       "      <th>TEXT</th>\n",
       "    </tr>\n",
       "  </thead>\n",
       "  <tbody>\n",
       "    <tr>\n",
       "      <th>0</th>\n",
       "      <td>174</td>\n",
       "      <td>22532</td>\n",
       "      <td>167853.0</td>\n",
       "      <td>2151-08-04</td>\n",
       "      <td>NaN</td>\n",
       "      <td>NaN</td>\n",
       "      <td>Discharge summary</td>\n",
       "      <td>Report</td>\n",
       "      <td>NaN</td>\n",
       "      <td>NaN</td>\n",
       "      <td>Admission Date:  [**2151-7-16**]       Dischar...</td>\n",
       "    </tr>\n",
       "    <tr>\n",
       "      <th>6</th>\n",
       "      <td>180</td>\n",
       "      <td>20646</td>\n",
       "      <td>134727.0</td>\n",
       "      <td>2112-12-10</td>\n",
       "      <td>NaN</td>\n",
       "      <td>NaN</td>\n",
       "      <td>Discharge summary</td>\n",
       "      <td>Report</td>\n",
       "      <td>NaN</td>\n",
       "      <td>NaN</td>\n",
       "      <td>Admission Date:  [**2112-12-8**]              ...</td>\n",
       "    </tr>\n",
       "    <tr>\n",
       "      <th>8</th>\n",
       "      <td>182</td>\n",
       "      <td>56174</td>\n",
       "      <td>163469.0</td>\n",
       "      <td>2118-08-12</td>\n",
       "      <td>NaN</td>\n",
       "      <td>NaN</td>\n",
       "      <td>Discharge summary</td>\n",
       "      <td>Report</td>\n",
       "      <td>NaN</td>\n",
       "      <td>NaN</td>\n",
       "      <td>Admission Date:  [**2118-8-10**]              ...</td>\n",
       "    </tr>\n",
       "    <tr>\n",
       "      <th>9</th>\n",
       "      <td>183</td>\n",
       "      <td>56174</td>\n",
       "      <td>189681.0</td>\n",
       "      <td>2118-12-09</td>\n",
       "      <td>NaN</td>\n",
       "      <td>NaN</td>\n",
       "      <td>Discharge summary</td>\n",
       "      <td>Report</td>\n",
       "      <td>NaN</td>\n",
       "      <td>NaN</td>\n",
       "      <td>Admission Date:  [**2118-12-7**]              ...</td>\n",
       "    </tr>\n",
       "    <tr>\n",
       "      <th>12</th>\n",
       "      <td>223</td>\n",
       "      <td>5350</td>\n",
       "      <td>169684.0</td>\n",
       "      <td>2143-04-30</td>\n",
       "      <td>NaN</td>\n",
       "      <td>NaN</td>\n",
       "      <td>Discharge summary</td>\n",
       "      <td>Report</td>\n",
       "      <td>NaN</td>\n",
       "      <td>NaN</td>\n",
       "      <td>Admission Date:  [**2143-4-25**]     Discharge...</td>\n",
       "    </tr>\n",
       "  </tbody>\n",
       "</table>\n",
       "</div>"
      ],
      "text/plain": [
       "    ROW_ID  SUBJECT_ID   HADM_ID   CHARTDATE CHARTTIME STORETIME  \\\n",
       "0      174       22532  167853.0  2151-08-04       NaN       NaN   \n",
       "6      180       20646  134727.0  2112-12-10       NaN       NaN   \n",
       "8      182       56174  163469.0  2118-08-12       NaN       NaN   \n",
       "9      183       56174  189681.0  2118-12-09       NaN       NaN   \n",
       "12     223        5350  169684.0  2143-04-30       NaN       NaN   \n",
       "\n",
       "             CATEGORY DESCRIPTION  CGID  ISERROR  \\\n",
       "0   Discharge summary      Report   NaN      NaN   \n",
       "6   Discharge summary      Report   NaN      NaN   \n",
       "8   Discharge summary      Report   NaN      NaN   \n",
       "9   Discharge summary      Report   NaN      NaN   \n",
       "12  Discharge summary      Report   NaN      NaN   \n",
       "\n",
       "                                                 TEXT  \n",
       "0   Admission Date:  [**2151-7-16**]       Dischar...  \n",
       "6   Admission Date:  [**2112-12-8**]              ...  \n",
       "8   Admission Date:  [**2118-8-10**]              ...  \n",
       "9   Admission Date:  [**2118-12-7**]              ...  \n",
       "12  Admission Date:  [**2143-4-25**]     Discharge...  "
      ]
     },
     "execution_count": 19,
     "metadata": {},
     "output_type": "execute_result"
    }
   ],
   "source": [
    "# Remove rows from the dataframe based on document length of top / bottom 5%.\n",
    "min_ln = max(lns[0:rm_size])\n",
    "max_ln = min(lns[-rm_size:])\n",
    "noteevents = noteevents[(noteevents.TEXT.str.len() > min_ln) & (noteevents.TEXT.str.len() < max_ln)]\n",
    "noteevents.head()"
   ]
  },
  {
   "cell_type": "code",
   "execution_count": 20,
   "metadata": {
    "id": "MtRUapopadQv"
   },
   "outputs": [
    {
     "name": "stdout",
     "output_type": "stream",
     "text": [
      "Length after cleaning : 1874558\n",
      "Length of the original: 2083180\n"
     ]
    }
   ],
   "source": [
    "print(f\"Length after cleaning : {len(noteevents)}\")\n",
    "print(f\"Length of the original: {len(noteevents_original)}\")"
   ]
  },
  {
   "cell_type": "markdown",
   "metadata": {
    "id": "8cs_CW5RadQx"
   },
   "source": [
    "## Number of documents per patient"
   ]
  },
  {
   "cell_type": "code",
   "execution_count": 21,
   "metadata": {
    "id": "4_2isvlvadQx"
   },
   "outputs": [
    {
     "name": "stderr",
     "output_type": "stream",
     "text": [
      "C:\\Users\\morio\\anaconda3\\lib\\site-packages\\seaborn\\distributions.py:2557: FutureWarning: `distplot` is a deprecated function and will be removed in a future version. Please adapt your code to use either `displot` (a figure-level function with similar flexibility) or `histplot` (an axes-level function for histograms).\n",
      "  warnings.warn(msg, FutureWarning)\n"
     ]
    },
    {
     "data": {
      "image/png": "[encoded data removed]",
      "text/plain": [
       "<Figure size 1000x600 with 1 Axes>"
      ]
     },
     "metadata": {},
     "output_type": "display_data"
    }
   ],
   "source": [
    "sns.distplot(noteevents['SUBJECT_ID'].value_counts().values, kde=False, axlabel='Documents per patient')\n",
    "plt.show()"
   ]
  },
  {
   "cell_type": "code",
   "execution_count": 22,
   "metadata": {
    "id": "TZp9h_e-adQz"
   },
   "outputs": [
    {
     "data": {
      "text/html": [
       "<div>\n",
       "<style scoped>\n",
       "    .dataframe tbody tr th:only-of-type {\n",
       "        vertical-align: middle;\n",
       "    }\n",
       "\n",
       "    .dataframe tbody tr th {\n",
       "        vertical-align: top;\n",
       "    }\n",
       "\n",
       "    .dataframe thead th {\n",
       "        text-align: right;\n",
       "    }\n",
       "</style>\n",
       "<table border=\"1\" class=\"dataframe\">\n",
       "  <thead>\n",
       "    <tr style=\"text-align: right;\">\n",
       "      <th></th>\n",
       "      <th>ROW_ID</th>\n",
       "      <th>SUBJECT_ID</th>\n",
       "      <th>HADM_ID</th>\n",
       "      <th>CHARTDATE</th>\n",
       "      <th>CHARTTIME</th>\n",
       "      <th>STORETIME</th>\n",
       "      <th>CATEGORY</th>\n",
       "      <th>DESCRIPTION</th>\n",
       "      <th>CGID</th>\n",
       "      <th>ISERROR</th>\n",
       "      <th>TEXT</th>\n",
       "    </tr>\n",
       "  </thead>\n",
       "  <tbody>\n",
       "    <tr>\n",
       "      <th>0</th>\n",
       "      <td>174</td>\n",
       "      <td>22532</td>\n",
       "      <td>167853.0</td>\n",
       "      <td>2151-08-04</td>\n",
       "      <td>NaN</td>\n",
       "      <td>NaN</td>\n",
       "      <td>Discharge summary</td>\n",
       "      <td>Report</td>\n",
       "      <td>NaN</td>\n",
       "      <td>NaN</td>\n",
       "      <td>Admission Date:  [**2151-7-16**]       Dischar...</td>\n",
       "    </tr>\n",
       "    <tr>\n",
       "      <th>6</th>\n",
       "      <td>180</td>\n",
       "      <td>20646</td>\n",
       "      <td>134727.0</td>\n",
       "      <td>2112-12-10</td>\n",
       "      <td>NaN</td>\n",
       "      <td>NaN</td>\n",
       "      <td>Discharge summary</td>\n",
       "      <td>Report</td>\n",
       "      <td>NaN</td>\n",
       "      <td>NaN</td>\n",
       "      <td>Admission Date:  [**2112-12-8**]              ...</td>\n",
       "    </tr>\n",
       "    <tr>\n",
       "      <th>8</th>\n",
       "      <td>182</td>\n",
       "      <td>56174</td>\n",
       "      <td>163469.0</td>\n",
       "      <td>2118-08-12</td>\n",
       "      <td>NaN</td>\n",
       "      <td>NaN</td>\n",
       "      <td>Discharge summary</td>\n",
       "      <td>Report</td>\n",
       "      <td>NaN</td>\n",
       "      <td>NaN</td>\n",
       "      <td>Admission Date:  [**2118-8-10**]              ...</td>\n",
       "    </tr>\n",
       "    <tr>\n",
       "      <th>9</th>\n",
       "      <td>183</td>\n",
       "      <td>56174</td>\n",
       "      <td>189681.0</td>\n",
       "      <td>2118-12-09</td>\n",
       "      <td>NaN</td>\n",
       "      <td>NaN</td>\n",
       "      <td>Discharge summary</td>\n",
       "      <td>Report</td>\n",
       "      <td>NaN</td>\n",
       "      <td>NaN</td>\n",
       "      <td>Admission Date:  [**2118-12-7**]              ...</td>\n",
       "    </tr>\n",
       "    <tr>\n",
       "      <th>12</th>\n",
       "      <td>223</td>\n",
       "      <td>5350</td>\n",
       "      <td>169684.0</td>\n",
       "      <td>2143-04-30</td>\n",
       "      <td>NaN</td>\n",
       "      <td>NaN</td>\n",
       "      <td>Discharge summary</td>\n",
       "      <td>Report</td>\n",
       "      <td>NaN</td>\n",
       "      <td>NaN</td>\n",
       "      <td>Admission Date:  [**2143-4-25**]     Discharge...</td>\n",
       "    </tr>\n",
       "  </tbody>\n",
       "</table>\n",
       "</div>"
      ],
      "text/plain": [
       "    ROW_ID  SUBJECT_ID   HADM_ID   CHARTDATE CHARTTIME STORETIME  \\\n",
       "0      174       22532  167853.0  2151-08-04       NaN       NaN   \n",
       "6      180       20646  134727.0  2112-12-10       NaN       NaN   \n",
       "8      182       56174  163469.0  2118-08-12       NaN       NaN   \n",
       "9      183       56174  189681.0  2118-12-09       NaN       NaN   \n",
       "12     223        5350  169684.0  2143-04-30       NaN       NaN   \n",
       "\n",
       "             CATEGORY DESCRIPTION  CGID  ISERROR  \\\n",
       "0   Discharge summary      Report   NaN      NaN   \n",
       "6   Discharge summary      Report   NaN      NaN   \n",
       "8   Discharge summary      Report   NaN      NaN   \n",
       "9   Discharge summary      Report   NaN      NaN   \n",
       "12  Discharge summary      Report   NaN      NaN   \n",
       "\n",
       "                                                 TEXT  \n",
       "0   Admission Date:  [**2151-7-16**]       Dischar...  \n",
       "6   Admission Date:  [**2112-12-8**]              ...  \n",
       "8   Admission Date:  [**2118-8-10**]              ...  \n",
       "9   Admission Date:  [**2118-12-7**]              ...  \n",
       "12  Admission Date:  [**2143-4-25**]     Discharge...  "
      ]
     },
     "execution_count": 22,
     "metadata": {},
     "output_type": "execute_result"
    }
   ],
   "source": [
    "# Again a bit of clean-up, let's remove the bottom/top 1% of patients based on the number of \n",
    "# documents they have. \n",
    "docs_per_pt = noteevents['SUBJECT_ID'].value_counts()\n",
    "docs_per_pt_vals = docs_per_pt.values\n",
    "docs_per_pt_vals.sort()\n",
    "\n",
    "rm_size = int(len(docs_per_pt_vals) / 100) * 1\n",
    "min_ln = max(docs_per_pt_vals[0:rm_size])\n",
    "max_ln = min(docs_per_pt_vals[-rm_size:])\n",
    "\n",
    "keep_subject_id = set([k for k, v in docs_per_pt.iteritems() if v > min_ln and v < max_ln])\n",
    "noteevents = noteevents[[True if subject_id in keep_subject_id else False \n",
    "                  for subject_id in noteevents['SUBJECT_ID'].values]]\n",
    "noteevents.head()"
   ]
  },
  {
   "cell_type": "code",
   "execution_count": 23,
   "metadata": {
    "id": "O5ZA-Ay1adQ1"
   },
   "outputs": [
    {
     "name": "stdout",
     "output_type": "stream",
     "text": [
      "Length after cleaning : 1148653\n",
      "Length of the original: 2083180\n"
     ]
    }
   ],
   "source": [
    "print(f\"Length after cleaning : {len(noteevents)}\")\n",
    "print(f\"Length of the original: {len(noteevents_original)}\")"
   ]
  },
  {
   "cell_type": "code",
   "execution_count": 24,
   "metadata": {
    "id": "BZDQcG_OadQ4"
   },
   "outputs": [
    {
     "name": "stderr",
     "output_type": "stream",
     "text": [
      "C:\\Users\\morio\\anaconda3\\lib\\site-packages\\seaborn\\distributions.py:2557: FutureWarning: `distplot` is a deprecated function and will be removed in a future version. Please adapt your code to use either `displot` (a figure-level function with similar flexibility) or `histplot` (an axes-level function for histograms).\n",
      "  warnings.warn(msg, FutureWarning)\n"
     ]
    },
    {
     "data": {
      "image/png": "[encoded data removed]",
      "text/plain": [
       "<Figure size 1000x600 with 1 Axes>"
      ]
     },
     "metadata": {},
     "output_type": "display_data"
    }
   ],
   "source": [
    "sns.distplot(noteevents['SUBJECT_ID'].value_counts().values, kde=False, axlabel='Documents per patient')\n",
    "plt.show()"
   ]
  },
  {
   "cell_type": "markdown",
   "metadata": {
    "id": "r7jGwJEmadQ6"
   },
   "source": [
    "### There are different sources for the documesnt, we'll also plot that..."
   ]
  },
  {
   "cell_type": "code",
   "execution_count": 25,
   "metadata": {
    "id": "aKZCkIG8adQ6"
   },
   "outputs": [
    {
     "name": "stderr",
     "output_type": "stream",
     "text": [
      "C:\\Users\\morio\\anaconda3\\lib\\site-packages\\seaborn\\_decorators.py:36: FutureWarning: Pass the following variable as a keyword arg: x. From version 0.12, the only valid positional argument will be `data`, and passing other arguments without an explicit keyword will result in an error or misinterpretation.\n",
      "  warnings.warn(\n"
     ]
    },
    {
     "data": {
      "image/png": "[encoded data removed]",
      "text/plain": [
       "<Figure size 1000x600 with 1 Axes>"
      ]
     },
     "metadata": {},
     "output_type": "display_data"
    }
   ],
   "source": [
    "plot = sns.countplot(noteevents['CATEGORY'])\n",
    "_ = plot.set_xticklabels(plot.get_xticklabels(), rotation=45, horizontalalignment='right')\n",
    "plt.show()"
   ]
  },
  {
   "cell_type": "markdown",
   "metadata": {
    "id": "L13jbTI0adQ8"
   },
   "source": [
    "## Age based statistics"
   ]
  },
  {
   "cell_type": "code",
   "execution_count": 27,
   "metadata": {
    "id": "uJ2_DrKwadQ8"
   },
   "outputs": [],
   "source": [
    "# Convert to pandas dates\n",
    "noteevents['CHARTDATE'] = pd.to_datetime(noteevents['CHARTDATE'])\n",
    "patients['DOB'] = pd.to_datetime(patients['DOB'])\n",
    "\n",
    "# Add a year column\n",
    "noteevents['CREATE_YEAR'] = pd.DatetimeIndex(noteevents['CHARTDATE']).year\n",
    "patients['DOB_YEAR'] = pd.DatetimeIndex(patients['DOB']).year"
   ]
  },
  {
   "cell_type": "code",
   "execution_count": 28,
   "metadata": {
    "id": "FPEufVo5adQ-"
   },
   "outputs": [],
   "source": [
    "# Joint noteevents with patients\n",
    "pt_notes = noteevents.merge(patients, on='SUBJECT_ID', how='left')"
   ]
  },
  {
   "cell_type": "code",
   "execution_count": 29,
   "metadata": {
    "id": "n_nY8bt8adRA"
   },
   "outputs": [],
   "source": [
    "pt_notes['AGE_YEAR'] = pt_notes['CREATE_YEAR'] - pt_notes['DOB_YEAR']"
   ]
  },
  {
   "cell_type": "code",
   "execution_count": 30,
   "metadata": {
    "id": "GI6asE74adRB"
   },
   "outputs": [],
   "source": [
    "# Remove patients older than 89 and younger than 16\n",
    "pt_notes = pt_notes[pt_notes['AGE_YEAR'] >= 16]\n",
    "pt_notes = pt_notes[pt_notes['AGE_YEAR'] <= 89]"
   ]
  },
  {
   "cell_type": "code",
   "execution_count": 31,
   "metadata": {
    "id": "cV0omycladRD"
   },
   "outputs": [
    {
     "name": "stdout",
     "output_type": "stream",
     "text": [
      "Number of patients with only one doc: 1\n",
      "After removal: 0\n"
     ]
    }
   ],
   "source": [
    "# It is possible that the cleaning above created some patients with only one document\n",
    "print(\"Number of patients with only one doc: \" + str(sum(pt_notes['SUBJECT_ID'].value_counts().values == 1)))\n",
    "\n",
    "# Remove it there are any\n",
    "remove_subject = set([k for k, v in pt_notes['SUBJECT_ID'].value_counts().iteritems() if v == 1])\n",
    "pt_notes = pt_notes[~pt_notes.SUBJECT_ID.isin(remove_subject)]\n",
    "print(\"After removal: \" + str(sum(pt_notes['SUBJECT_ID'].value_counts().values == 1)))"
   ]
  },
  {
   "cell_type": "code",
   "execution_count": 32,
   "metadata": {
    "id": "321itVORadRF"
   },
   "outputs": [
    {
     "data": {
      "text/plain": [
       "Radiology            370835\n",
       "Nursing/other        255380\n",
       "ECG                  116919\n",
       "Nursing              103684\n",
       "Physician             41092\n",
       "Echo                  35302\n",
       "Discharge summary     16087\n",
       "Respiratory            9209\n",
       "General                3389\n",
       "Nutrition              3330\n",
       "Rehab Services         2441\n",
       "Social Work            1309\n",
       "Case Management         341\n",
       "Consult                  50\n",
       "Pharmacy                 23\n",
       "Name: CATEGORY, dtype: int64"
      ]
     },
     "execution_count": 32,
     "metadata": {},
     "output_type": "execute_result"
    }
   ],
   "source": [
    "pt_notes.CATEGORY.value_counts()"
   ]
  },
  {
   "cell_type": "code",
   "execution_count": 33,
   "metadata": {
    "id": "3Yol0bDUadRH"
   },
   "outputs": [],
   "source": [
    "# We'll do the following to make sure patients do not have documents that span \n",
    "# over multiple years, meaning their age would change.\n",
    "dif_pt = {}\n",
    "for ind, row in pt_notes.iterrows():\n",
    "    sid = row['SUBJECT_ID']\n",
    "    if sid in dif_pt:\n",
    "        dif_pt[sid].append(row['AGE_YEAR'])\n",
    "    else:\n",
    "        dif_pt[sid] = [row['AGE_YEAR']]\n",
    "\n",
    "ehr_length = []\n",
    "median_age = []\n",
    "for v in dif_pt.values():\n",
    "    mx = max(v)\n",
    "    mi = min(v)\n",
    "    median_age.append(np.median(v))\n",
    "    ehr_length.append(mx - mi)"
   ]
  },
  {
   "cell_type": "code",
   "execution_count": 34,
   "metadata": {
    "id": "wPEDOt48adRI"
   },
   "outputs": [
    {
     "name": "stderr",
     "output_type": "stream",
     "text": [
      "C:\\Users\\morio\\anaconda3\\lib\\site-packages\\seaborn\\distributions.py:2557: FutureWarning: `distplot` is a deprecated function and will be removed in a future version. Please adapt your code to use either `displot` (a figure-level function with similar flexibility) or `histplot` (an axes-level function for histograms).\n",
      "  warnings.warn(msg, FutureWarning)\n"
     ]
    },
    {
     "data": {
      "image/png": "[encoded data removed]",
      "text/plain": [
       "<Figure size 1000x600 with 1 Axes>"
      ]
     },
     "metadata": {},
     "output_type": "display_data"
    }
   ],
   "source": [
    "# We show this mainly to be sure that most patients have an EHR that spans less than 1 year \n",
    "sns.distplot(ehr_length, kde=False, axlabel='EHR Length in Years')\n",
    "plt.show()"
   ]
  },
  {
   "cell_type": "code",
   "execution_count": 35,
   "metadata": {
    "id": "n5QytU90adRK"
   },
   "outputs": [
    {
     "data": {
      "image/png": "[encoded data removed]",
      "text/plain": [
       "<Figure size 1000x600 with 1 Axes>"
      ]
     },
     "metadata": {},
     "output_type": "display_data"
    }
   ],
   "source": [
    "sns.distplot([np.round(x) for x in median_age], kde=False, bins=74, axlabel='Patient Age')\n",
    "plt.show()"
   ]
  },
  {
   "cell_type": "code",
   "execution_count": 36,
   "metadata": {
    "id": "sak8VW3UadRL"
   },
   "outputs": [
    {
     "name": "stdout",
     "output_type": "stream",
     "text": [
      "34073\n",
      "46146\n"
     ]
    }
   ],
   "source": [
    "# Number of patients after/before cleaning\n",
    "print(len(pt_notes['SUBJECT_ID'].unique()))\n",
    "print(len(noteevents_original['SUBJECT_ID'].unique()))"
   ]
  },
  {
   "cell_type": "code",
   "execution_count": 37,
   "metadata": {
    "id": "EnDpGSi2adRN"
   },
   "outputs": [
    {
     "name": "stdout",
     "output_type": "stream",
     "text": [
      "1587.502669922899\n",
      "1826.0114800449312\n"
     ]
    }
   ],
   "source": [
    "# Document length after/before cleaning\n",
    "print(np.average([len(str(x)) for x in pt_notes['TEXT']]))\n",
    "print(np.average([len(str(x)) for x in noteevents_original['TEXT']]))"
   ]
  },
  {
   "cell_type": "code",
   "execution_count": 38,
   "metadata": {
    "id": "MEs12MNpadRR"
   },
   "outputs": [
    {
     "name": "stdout",
     "output_type": "stream",
     "text": [
      "959391\n",
      "2083180\n"
     ]
    }
   ],
   "source": [
    "# Number of documents after/before cleaning\n",
    "print(len(pt_notes))\n",
    "print(len(noteevents_original))"
   ]
  },
  {
   "cell_type": "code",
   "execution_count": 39,
   "metadata": {
    "id": "1bZNZEEgadRT"
   },
   "outputs": [
    {
     "name": "stdout",
     "output_type": "stream",
     "text": [
      "2\n",
      "1\n"
     ]
    }
   ],
   "source": [
    "# Min number of documents per patient after/before cleaning\n",
    "print(min(pt_notes['SUBJECT_ID'].value_counts().values))\n",
    "print(min(noteevents_original['SUBJECT_ID'].value_counts().values))"
   ]
  },
  {
   "cell_type": "code",
   "execution_count": 40,
   "metadata": {
    "id": "jVksBr5oadRU"
   },
   "outputs": [
    {
     "name": "stdout",
     "output_type": "stream",
     "text": [
      "130\n",
      "1420\n"
     ]
    }
   ],
   "source": [
    "# Max number of documents per patient after/before cleaning\n",
    "print(max(pt_notes['SUBJECT_ID'].value_counts().values))\n",
    "print(max(noteevents_original['SUBJECT_ID'].value_counts().values))"
   ]
  },
  {
   "cell_type": "code",
   "execution_count": null,
   "metadata": {
    "id": "aZfJb7_NadRW"
   },
   "outputs": [],
   "source": [
    "# Save the new DF\n",
    "pt_notes.to_csv(DATA_DIR + \"pt_notes.csv\", index=False)"
   ]
  },
  {
   "cell_type": "code",
   "execution_count": null,
   "metadata": {},
   "outputs": [],
   "source": [
    "pt_notes.head()"
   ]
  },
  {
   "cell_type": "markdown",
   "metadata": {
    "id": "BXnxAuZX2ejp"
   },
   "source": [
    "End of Dataset Analysis and Preparation tutorial"
   ]
  }
 ],
 "metadata": {
  "colab": {
   "collapsed_sections": [],
   "name": "MedCAT Tutorial | Part 2 - Dataset Analysis and Preparation.ipynb",
   "provenance": []
  },
  "kernelspec": {
   "display_name": "Python 3",
   "language": "python",
   "name": "python3"
  },
  "language_info": {
   "codemirror_mode": {
    "name": "ipython",
    "version": 3
   },
   "file_extension": ".py",
   "mimetype": "text/x-python",
   "name": "python",
   "nbconvert_exporter": "python",
   "pygments_lexer": "ipython3",
   "version": "3.8.8"
  }
 },
 "nbformat": 4,
 "nbformat_minor": 1
}
