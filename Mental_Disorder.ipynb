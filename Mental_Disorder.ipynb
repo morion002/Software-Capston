{
 "cells": [
  {
   "cell_type": "markdown",
   "id": "0199f9e6",
   "metadata": {},
   "source": [
    "### Imports"
   ]
  },
  {
   "cell_type": "code",
   "execution_count": 18,
   "id": "c449e1f3",
   "metadata": {},
   "outputs": [],
   "source": [
    "import pickle\n",
    "import pandas as pd\n",
    "import numpy as np"
   ]
  },
  {
   "cell_type": "markdown",
   "id": "1505a56d",
   "metadata": {},
   "source": [
    "### Data Loading"
   ]
  },
  {
   "cell_type": "code",
   "execution_count": 4,
   "id": "9bbfaf13",
   "metadata": {},
   "outputs": [],
   "source": [
    "with open('Anxiety_comment2data.pkl', 'rb') as anx:\n",
    "    anxiety_data = pickle.load(anx)\n",
    "with open('bipolar_comment2data.pkl', 'rb') as bip:\n",
    "    bipolar_data = pickle.load(bip)\n",
    "with open('depression_comment2data.pkl', 'rb') as dep:\n",
    "    depression_data = pickle.load(dep)\n",
    "with open('SuicideWatch_comment2data.pkl', 'rb') as sui:\n",
    "    suicideWatch_data = pickle.load(sui)"
   ]
  },
  {
   "cell_type": "code",
   "execution_count": 16,
   "id": "009cdb4a",
   "metadata": {},
   "outputs": [],
   "source": [
    "anx_val = list(anxiety_data.values())\n",
    "bip_val = list(bipolar_data.values())\n",
    "dep_val = list(depression_data.values())\n",
    "sui_val = list(suicideWatch_data.values())"
   ]
  },
  {
   "cell_type": "code",
   "execution_count": 28,
   "id": "05cb6c3e",
   "metadata": {},
   "outputs": [],
   "source": [
    "anx = pd.DataFrame.from_dict(anx_val, orient='columns')\n",
    "bip = pd.DataFrame.from_dict(bip_val, orient='columns')\n",
    "dep = pd.DataFrame.from_dict(dep_val, orient='columns')\n",
    "sui = pd.DataFrame.from_dict(sui_val, orient='columns')\n",
    "\n",
    "anx['mental_disorder'] = 'anxiety'\n",
    "bip['mental_disorder'] = 'bipolar'\n",
    "dep['mental_disorder'] = 'depression'\n",
    "sui['mental_disorder'] = 'suicide_watch'"
   ]
  },
  {
   "cell_type": "code",
   "execution_count": 34,
   "id": "114b85c3",
   "metadata": {},
   "outputs": [],
   "source": [
    "data = pd.concat([anx, bip, dep, sui])"
   ]
  },
  {
   "cell_type": "code",
   "execution_count": 38,
   "id": "9f411f8a",
   "metadata": {},
   "outputs": [
    {
     "data": {
      "text/html": [
       "<div>\n",
       "<style scoped>\n",
       "    .dataframe tbody tr th:only-of-type {\n",
       "        vertical-align: middle;\n",
       "    }\n",
       "\n",
       "    .dataframe tbody tr th {\n",
       "        vertical-align: top;\n",
       "    }\n",
       "\n",
       "    .dataframe thead th {\n",
       "        text-align: right;\n",
       "    }\n",
       "</style>\n",
       "<table border=\"1\" class=\"dataframe\">\n",
       "  <thead>\n",
       "    <tr style=\"text-align: right;\">\n",
       "      <th></th>\n",
       "      <th>author</th>\n",
       "      <th>created_utc</th>\n",
       "      <th>text</th>\n",
       "      <th>link_id</th>\n",
       "      <th>parent_id</th>\n",
       "      <th>pos</th>\n",
       "      <th>neg</th>\n",
       "      <th>neu</th>\n",
       "      <th>compound</th>\n",
       "      <th>mental_disorder</th>\n",
       "    </tr>\n",
       "  </thead>\n",
       "  <tbody>\n",
       "    <tr>\n",
       "      <th>0</th>\n",
       "      <td>Gaming_Expert</td>\n",
       "      <td>2017-01-01 00:01:54</td>\n",
       "      <td>Same experiences. Same situation, my friend. N...</td>\n",
       "      <td>5lasy3</td>\n",
       "      <td>5lasy3</td>\n",
       "      <td>0.233</td>\n",
       "      <td>0.059</td>\n",
       "      <td>0.708</td>\n",
       "      <td>0.9671</td>\n",
       "      <td>anxiety</td>\n",
       "    </tr>\n",
       "    <tr>\n",
       "      <th>1</th>\n",
       "      <td>Soaddk</td>\n",
       "      <td>2017-01-01 00:05:52</td>\n",
       "      <td>Jup! I hate it because I've become rather good...</td>\n",
       "      <td>5lbc57</td>\n",
       "      <td>5lbc57</td>\n",
       "      <td>0.177</td>\n",
       "      <td>0.121</td>\n",
       "      <td>0.702</td>\n",
       "      <td>0.8912</td>\n",
       "      <td>anxiety</td>\n",
       "    </tr>\n",
       "    <tr>\n",
       "      <th>2</th>\n",
       "      <td>Purplescarr</td>\n",
       "      <td>2017-01-01 00:09:34</td>\n",
       "      <td>God, it's the worst. Especially if you're like...</td>\n",
       "      <td>5l9y7v</td>\n",
       "      <td>dbuaoes</td>\n",
       "      <td>0.225</td>\n",
       "      <td>0.163</td>\n",
       "      <td>0.612</td>\n",
       "      <td>0.8709</td>\n",
       "      <td>anxiety</td>\n",
       "    </tr>\n",
       "    <tr>\n",
       "      <th>3</th>\n",
       "      <td>The_Mandog</td>\n",
       "      <td>2017-01-01 00:09:57</td>\n",
       "      <td>I have a somewhat long story that I posted las...</td>\n",
       "      <td>5l9laf</td>\n",
       "      <td>5l9laf</td>\n",
       "      <td>0.098</td>\n",
       "      <td>0.104</td>\n",
       "      <td>0.798</td>\n",
       "      <td>-0.9655</td>\n",
       "      <td>anxiety</td>\n",
       "    </tr>\n",
       "    <tr>\n",
       "      <th>4</th>\n",
       "      <td>snugglyaggron</td>\n",
       "      <td>2017-01-01 00:11:52</td>\n",
       "      <td>This happens to me, too. Whenever a close frie...</td>\n",
       "      <td>5lbo3u</td>\n",
       "      <td>5lbo3u</td>\n",
       "      <td>0.224</td>\n",
       "      <td>0.163</td>\n",
       "      <td>0.612</td>\n",
       "      <td>0.7717</td>\n",
       "      <td>anxiety</td>\n",
       "    </tr>\n",
       "  </tbody>\n",
       "</table>\n",
       "</div>"
      ],
      "text/plain": [
       "          author         created_utc  \\\n",
       "0  Gaming_Expert 2017-01-01 00:01:54   \n",
       "1         Soaddk 2017-01-01 00:05:52   \n",
       "2    Purplescarr 2017-01-01 00:09:34   \n",
       "3     The_Mandog 2017-01-01 00:09:57   \n",
       "4  snugglyaggron 2017-01-01 00:11:52   \n",
       "\n",
       "                                                text link_id parent_id    pos  \\\n",
       "0  Same experiences. Same situation, my friend. N...  5lasy3    5lasy3  0.233   \n",
       "1  Jup! I hate it because I've become rather good...  5lbc57    5lbc57  0.177   \n",
       "2  God, it's the worst. Especially if you're like...  5l9y7v   dbuaoes  0.225   \n",
       "3  I have a somewhat long story that I posted las...  5l9laf    5l9laf  0.098   \n",
       "4  This happens to me, too. Whenever a close frie...  5lbo3u    5lbo3u  0.224   \n",
       "\n",
       "     neg    neu  compound mental_disorder  \n",
       "0  0.059  0.708    0.9671         anxiety  \n",
       "1  0.121  0.702    0.8912         anxiety  \n",
       "2  0.163  0.612    0.8709         anxiety  \n",
       "3  0.104  0.798   -0.9655         anxiety  \n",
       "4  0.163  0.612    0.7717         anxiety  "
      ]
     },
     "execution_count": 38,
     "metadata": {},
     "output_type": "execute_result"
    }
   ],
   "source": [
    "data.head()"
   ]
  },
  {
   "cell_type": "markdown",
   "id": "f122b1fa",
   "metadata": {},
   "source": [
    "### Data Preprocessing"
   ]
  },
  {
   "cell_type": "code",
   "execution_count": null,
   "id": "a50d2350",
   "metadata": {},
   "outputs": [],
   "source": []
  }
 ],
 "metadata": {
  "kernelspec": {
   "display_name": "Python 3",
   "language": "python",
   "name": "python3"
  },
  "language_info": {
   "codemirror_mode": {
    "name": "ipython",
    "version": 3
   },
   "file_extension": ".py",
   "mimetype": "text/x-python",
   "name": "python",
   "nbconvert_exporter": "python",
   "pygments_lexer": "ipython3",
   "version": "3.8.8"
  }
 },
 "nbformat": 4,
 "nbformat_minor": 5
}
