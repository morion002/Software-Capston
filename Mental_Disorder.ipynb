{
 "cells": [
  {
   "cell_type": "markdown",
   "id": "0199f9e6",
   "metadata": {},
   "source": [
    "### Imports"
   ]
  },
  {
   "cell_type": "code",
   "execution_count": 18,
   "id": "c449e1f3",
   "metadata": {},
   "outputs": [],
   "source": [
    "import pickle\n",
    "import pandas as pd\n",
    "import numpy as np"
   ]
  },
  {
   "cell_type": "markdown",
   "id": "f5d92eb5",
   "metadata": {},
   "source": [
    "### Data Loading"
   ]
  },
  {
   "cell_type": "code",
   "execution_count": 4,
   "id": "9bbfaf13",
   "metadata": {},
   "outputs": [],
   "source": [
    "with open('Anxiety_comment2data.pkl', 'rb') as anx:\n",
    "    anxiety_data = pickle.load(anx)\n",
    "with open('bipolar_comment2data.pkl', 'rb') as bip:\n",
    "    bipolar_data = pickle.load(bip)\n",
    "with open('depression_comment2data.pkl', 'rb') as dep:\n",
    "    depression_data = pickle.load(dep)\n",
    "with open('SuicideWatch_comment2data.pkl', 'rb') as sui:\n",
    "    suicideWatch_data = pickle.load(sui)"
   ]
  },
  {
   "cell_type": "code",
   "execution_count": 16,
   "id": "009cdb4a",
   "metadata": {},
   "outputs": [],
   "source": [
    "anx_val = list(anxiety_data.values())\n",
    "bip_val = list(bipolar_data.values())\n",
    "dep_val = list(depression_data.values())\n",
    "sui_val = list(suicideWatch_data.values())"
   ]
  },
  {
   "cell_type": "code",
   "execution_count": 28,
   "id": "fbd71268",
   "metadata": {},
   "outputs": [],
   "source": [
    "anx = pd.DataFrame.from_dict(anx_val, orient='columns')\n",
    "bip = pd.DataFrame.from_dict(bip_val, orient='columns')\n",
    "dep = pd.DataFrame.from_dict(dep_val, orient='columns')\n",
    "sui = pd.DataFrame.from_dict(sui_val, orient='columns')\n",
    "\n",
    "anx['mental_disorder'] = 'anxiety'\n",
    "bip['mental_disorder'] = 'bipolar'\n",
    "dep['mental_disorder'] = 'depression'\n",
    "sui['mental_disorder'] = 'suicide_watch'"
   ]
  },
  {
   "cell_type": "code",
   "execution_count": 54,
   "id": "dc45811d",
   "metadata": {},
   "outputs": [],
   "source": [
    "data = pd.concat([anx, bip, dep, sui])\n",
    "data = data.drop([\"created_utc\", \"link_id\", \"parent_id\"], axis=1)"
   ]
  },
  {
   "cell_type": "code",
   "execution_count": 57,
   "id": "eca6fef8",
   "metadata": {},
   "outputs": [
    {
     "data": {
      "text/html": [
       "<div>\n",
       "<style scoped>\n",
       "    .dataframe tbody tr th:only-of-type {\n",
       "        vertical-align: middle;\n",
       "    }\n",
       "\n",
       "    .dataframe tbody tr th {\n",
       "        vertical-align: top;\n",
       "    }\n",
       "\n",
       "    .dataframe thead th {\n",
       "        text-align: right;\n",
       "    }\n",
       "</style>\n",
       "<table border=\"1\" class=\"dataframe\">\n",
       "  <thead>\n",
       "    <tr style=\"text-align: right;\">\n",
       "      <th></th>\n",
       "      <th>author</th>\n",
       "      <th>text</th>\n",
       "      <th>pos</th>\n",
       "      <th>neg</th>\n",
       "      <th>neu</th>\n",
       "      <th>compound</th>\n",
       "      <th>mental_disorder</th>\n",
       "    </tr>\n",
       "  </thead>\n",
       "  <tbody>\n",
       "    <tr>\n",
       "      <th>0</th>\n",
       "      <td>Gaming_Expert</td>\n",
       "      <td>Same experiences. Same situation, my friend. N...</td>\n",
       "      <td>0.233</td>\n",
       "      <td>0.059</td>\n",
       "      <td>0.708</td>\n",
       "      <td>0.9671</td>\n",
       "      <td>anxiety</td>\n",
       "    </tr>\n",
       "    <tr>\n",
       "      <th>2</th>\n",
       "      <td>Purplescarr</td>\n",
       "      <td>God, it's the worst. Especially if you're like...</td>\n",
       "      <td>0.225</td>\n",
       "      <td>0.163</td>\n",
       "      <td>0.612</td>\n",
       "      <td>0.8709</td>\n",
       "      <td>anxiety</td>\n",
       "    </tr>\n",
       "    <tr>\n",
       "      <th>3</th>\n",
       "      <td>The_Mandog</td>\n",
       "      <td>I have a somewhat long story that I posted las...</td>\n",
       "      <td>0.098</td>\n",
       "      <td>0.104</td>\n",
       "      <td>0.798</td>\n",
       "      <td>-0.9655</td>\n",
       "      <td>anxiety</td>\n",
       "    </tr>\n",
       "    <tr>\n",
       "      <th>4</th>\n",
       "      <td>snugglyaggron</td>\n",
       "      <td>This happens to me, too. Whenever a close frie...</td>\n",
       "      <td>0.224</td>\n",
       "      <td>0.163</td>\n",
       "      <td>0.612</td>\n",
       "      <td>0.7717</td>\n",
       "      <td>anxiety</td>\n",
       "    </tr>\n",
       "    <tr>\n",
       "      <th>5</th>\n",
       "      <td>boogerdouche</td>\n",
       "      <td>Well in all fairness, I think this year has bl...</td>\n",
       "      <td>0.212</td>\n",
       "      <td>0.067</td>\n",
       "      <td>0.721</td>\n",
       "      <td>0.8481</td>\n",
       "      <td>anxiety</td>\n",
       "    </tr>\n",
       "  </tbody>\n",
       "</table>\n",
       "</div>"
      ],
      "text/plain": [
       "          author                                               text    pos  \\\n",
       "0  Gaming_Expert  Same experiences. Same situation, my friend. N...  0.233   \n",
       "2    Purplescarr  God, it's the worst. Especially if you're like...  0.225   \n",
       "3     The_Mandog  I have a somewhat long story that I posted las...  0.098   \n",
       "4  snugglyaggron  This happens to me, too. Whenever a close frie...  0.224   \n",
       "5   boogerdouche  Well in all fairness, I think this year has bl...  0.212   \n",
       "\n",
       "     neg    neu  compound mental_disorder  \n",
       "0  0.059  0.708    0.9671         anxiety  \n",
       "2  0.163  0.612    0.8709         anxiety  \n",
       "3  0.104  0.798   -0.9655         anxiety  \n",
       "4  0.163  0.612    0.7717         anxiety  \n",
       "5  0.067  0.721    0.8481         anxiety  "
      ]
     },
     "execution_count": 57,
     "metadata": {},
     "output_type": "execute_result"
    }
   ],
   "source": [
    "data.head()"
   ]
  },
  {
   "cell_type": "markdown",
   "id": "af33ec9f",
   "metadata": {},
   "source": [
    "### Data Preprocessing"
   ]
  },
  {
   "cell_type": "markdown",
   "id": "65cf6cea",
   "metadata": {},
   "source": [
    "Removing 'deleted' or 'removed' data"
   ]
  },
  {
   "cell_type": "code",
   "execution_count": 58,
   "id": "e1094b7e",
   "metadata": {},
   "outputs": [],
   "source": [
    "data.drop(data.loc[data['text']=='[deleted]'].index, inplace=True)\n",
    "data.drop(data.loc[data['text']=='[removed]'].index, inplace=True)"
   ]
  },
  {
   "cell_type": "code",
   "execution_count": 60,
   "id": "d4ca19d4",
   "metadata": {},
   "outputs": [
    {
     "data": {
      "text/html": [
       "<div>\n",
       "<style scoped>\n",
       "    .dataframe tbody tr th:only-of-type {\n",
       "        vertical-align: middle;\n",
       "    }\n",
       "\n",
       "    .dataframe tbody tr th {\n",
       "        vertical-align: top;\n",
       "    }\n",
       "\n",
       "    .dataframe thead th {\n",
       "        text-align: right;\n",
       "    }\n",
       "</style>\n",
       "<table border=\"1\" class=\"dataframe\">\n",
       "  <thead>\n",
       "    <tr style=\"text-align: right;\">\n",
       "      <th></th>\n",
       "      <th>author</th>\n",
       "      <th>text</th>\n",
       "      <th>pos</th>\n",
       "      <th>neg</th>\n",
       "      <th>neu</th>\n",
       "      <th>compound</th>\n",
       "      <th>mental_disorder</th>\n",
       "    </tr>\n",
       "  </thead>\n",
       "  <tbody>\n",
       "    <tr>\n",
       "      <th>0</th>\n",
       "      <td>Gaming_Expert</td>\n",
       "      <td>Same experiences. Same situation, my friend. N...</td>\n",
       "      <td>0.233</td>\n",
       "      <td>0.059</td>\n",
       "      <td>0.708</td>\n",
       "      <td>0.9671</td>\n",
       "      <td>anxiety</td>\n",
       "    </tr>\n",
       "    <tr>\n",
       "      <th>2</th>\n",
       "      <td>Purplescarr</td>\n",
       "      <td>God, it's the worst. Especially if you're like...</td>\n",
       "      <td>0.225</td>\n",
       "      <td>0.163</td>\n",
       "      <td>0.612</td>\n",
       "      <td>0.8709</td>\n",
       "      <td>anxiety</td>\n",
       "    </tr>\n",
       "    <tr>\n",
       "      <th>3</th>\n",
       "      <td>The_Mandog</td>\n",
       "      <td>I have a somewhat long story that I posted las...</td>\n",
       "      <td>0.098</td>\n",
       "      <td>0.104</td>\n",
       "      <td>0.798</td>\n",
       "      <td>-0.9655</td>\n",
       "      <td>anxiety</td>\n",
       "    </tr>\n",
       "    <tr>\n",
       "      <th>4</th>\n",
       "      <td>snugglyaggron</td>\n",
       "      <td>This happens to me, too. Whenever a close frie...</td>\n",
       "      <td>0.224</td>\n",
       "      <td>0.163</td>\n",
       "      <td>0.612</td>\n",
       "      <td>0.7717</td>\n",
       "      <td>anxiety</td>\n",
       "    </tr>\n",
       "    <tr>\n",
       "      <th>5</th>\n",
       "      <td>boogerdouche</td>\n",
       "      <td>Well in all fairness, I think this year has bl...</td>\n",
       "      <td>0.212</td>\n",
       "      <td>0.067</td>\n",
       "      <td>0.721</td>\n",
       "      <td>0.8481</td>\n",
       "      <td>anxiety</td>\n",
       "    </tr>\n",
       "  </tbody>\n",
       "</table>\n",
       "</div>"
      ],
      "text/plain": [
       "          author                                               text    pos  \\\n",
       "0  Gaming_Expert  Same experiences. Same situation, my friend. N...  0.233   \n",
       "2    Purplescarr  God, it's the worst. Especially if you're like...  0.225   \n",
       "3     The_Mandog  I have a somewhat long story that I posted las...  0.098   \n",
       "4  snugglyaggron  This happens to me, too. Whenever a close frie...  0.224   \n",
       "5   boogerdouche  Well in all fairness, I think this year has bl...  0.212   \n",
       "\n",
       "     neg    neu  compound mental_disorder  \n",
       "0  0.059  0.708    0.9671         anxiety  \n",
       "2  0.163  0.612    0.8709         anxiety  \n",
       "3  0.104  0.798   -0.9655         anxiety  \n",
       "4  0.163  0.612    0.7717         anxiety  \n",
       "5  0.067  0.721    0.8481         anxiety  "
      ]
     },
     "execution_count": 60,
     "metadata": {},
     "output_type": "execute_result"
    }
   ],
   "source": [
    "data.head()"
   ]
  },
  {
   "cell_type": "code",
   "execution_count": null,
   "id": "59f07f59",
   "metadata": {},
   "outputs": [],
   "source": []
  }
 ],
 "metadata": {
  "kernelspec": {
   "display_name": "Python 3",
   "language": "python",
   "name": "python3"
  },
  "language_info": {
   "codemirror_mode": {
    "name": "ipython",
    "version": 3
   },
   "file_extension": ".py",
   "mimetype": "text/x-python",
   "name": "python",
   "nbconvert_exporter": "python",
   "pygments_lexer": "ipython3",
   "version": "3.8.8"
  }
 },
 "nbformat": 4,
 "nbformat_minor": 5
}
